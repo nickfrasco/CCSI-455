{
 "cells": [
  {
   "cell_type": "markdown",
   "metadata": {
    "colab_type": "text",
    "id": "8hXQCPRrlUFS"
   },
   "source": [
    "# **PCN Model**"
   ]
  },
  {
   "cell_type": "code",
   "execution_count": 1,
   "metadata": {
    "colab": {},
    "colab_type": "code",
    "id": "yirdgjX7ktCx"
   },
   "outputs": [],
   "source": [
    "# Code from Chapter 2 of Machine Learning: An Algorithmic Perspective\n",
    "# by Stephen Marsland (http://seat.massey.ac.nz/personal/s.r.marsland/MLBook.html)\n",
    "\n",
    "# You are free to use, change, or redistribute the code in any way you wish for\n",
    "# non-commercial purposes, but please maintain the name of the original author.\n",
    "# This code comes with no warranty of any kind.\n",
    "\n",
    "# Stephen Marsland, 2008\n",
    "\n",
    "from numpy import *\n",
    "\n",
    "class pcn:\n",
    "    #\"\"\" A basic Perceptron (the same pcn.py except with the weights printed\n",
    "    #and it does not reorder the inputs)\"\"\"\n",
    "\n",
    "    def __init__(self,inputs,targets):\n",
    "       # \"\"\" Constructor \"\"\"\n",
    "        # Set up network size\n",
    "        if ndim(inputs)>1:\n",
    "            self.nIn = shape(inputs)[1]\n",
    "        else: \n",
    "            self.nIn = 1\n",
    "\n",
    "        if ndim(targets)>1:\n",
    "            self.nOut = shape(targets)[1]\n",
    "        else:\n",
    "            self.nOut = 1\n",
    "\n",
    "        self.nData = shape(inputs)[0]\n",
    "\n",
    "        # Initialise network\n",
    "        self.weights = random.rand(self.nIn+1,self.nOut)*0.1-0.05\n",
    "\n",
    "    def pcntrain(self,inputs,targets,eta,nIterations):\n",
    "       # \"\"\" Train the thing \"\"\"\t\n",
    "        # Add the inputs that match the bias node\n",
    "        inputs = concatenate((inputs,-ones((self.nData,1))),axis=1)\n",
    "\n",
    "        # Training\n",
    "        change = range(self.nData)\n",
    "\n",
    "        for n in range(nIterations):\n",
    "\n",
    "            self.outputs = self.pcnfwd(inputs);\n",
    "            self.weights += eta*dot(transpose(inputs),targets-self.outputs)\n",
    "            print (\"Iteration: \", n)\n",
    "            print (self.weights)\n",
    "\n",
    "            activations = self.pcnfwd(inputs)\n",
    "            print (\"Final outputs are:\")\n",
    "            print (activations)\n",
    "        #return self.weights\n",
    "\n",
    "    def pcnfwd(self,inputs):\n",
    "        #\"\"\" Run the network forward \"\"\"\n",
    "\n",
    "        outputs =  dot(inputs,self.weights)\n",
    "        outputs *= 6\n",
    "\n",
    "        #Changed the 3rd element\n",
    "        return where(outputs>.333,1,0)\n",
    "\n",
    "\n",
    "    def confmat(self,inputs,targets):\n",
    "        \"\"\"Confusion matrix\"\"\"\n",
    "\n",
    "        # Add the inputs that match the bias node\n",
    "        inputs = concatenate((inputs,-ones((self.nData,1))),axis=1)\n",
    "        outputs = dot(inputs,self.weights)\n",
    "\n",
    "        nClasses = shape(targets)[1]\n",
    "\n",
    "        if nClasses==1:\n",
    "            nClasses = 2\n",
    "            outputs = where(outputs>0,1,0)\n",
    "        else:\n",
    "            # 1-of-N encoding\n",
    "            outputs = argmax(outputs,1)\n",
    "            targets = argmax(targets,1)\n",
    "\n",
    "        cm = zeros((nClasses,nClasses))\n",
    "        for i in range(nClasses):\n",
    "            for j in range(nClasses):\n",
    "                cm[i,j] = sum(where(outputs==i,1,0)*where(targets==j,1,0))\n",
    "\n",
    "        print (cm)\n",
    "        print (trace(cm)/sum(cm))"
   ]
  },
  {
   "cell_type": "markdown",
   "metadata": {
    "colab_type": "text",
    "id": "uK1J-KulmE7x"
   },
   "source": [
    "# **Generate Data**\n",
    "Use numpy to create the input and target data for pcn model"
   ]
  },
  {
   "cell_type": "code",
   "execution_count": 2,
   "metadata": {
    "colab": {},
    "colab_type": "code",
    "id": "q7nkWBfYeYkt"
   },
   "outputs": [],
   "source": [
    "import numpy as np\n",
    "inputs = np.array([[0,0],[0,1],[1,0],[1,1]])\n",
    "targets = np.array([[0],[1],[1],[1]])"
   ]
  },
  {
   "cell_type": "markdown",
   "metadata": {
    "colab_type": "text",
    "id": "lRlFROrZmRV0"
   },
   "source": [
    "# **Train the model**\n",
    "Create a new `pcn` object and use the function `pcntrain` to train the model. "
   ]
  },
  {
   "cell_type": "code",
   "execution_count": 3,
   "metadata": {
    "colab": {
     "base_uri": "https://localhost:8080/",
     "height": 935
    },
    "colab_type": "code",
    "executionInfo": {
     "elapsed": 289,
     "status": "ok",
     "timestamp": 1548606998560,
     "user": {
      "displayName": "Chao Tao",
      "photoUrl": "https://lh5.googleusercontent.com/-jFo-3ih4A9w/AAAAAAAAAAI/AAAAAAAAABs/gNwz73yXKSs/s64/photo.jpg",
      "userId": "14116835992842562865"
     },
     "user_tz": 300
    },
    "id": "1A_xId1Cfnuz",
    "outputId": "96eb6b92-59c8-427f-c009-5a090cec9f91"
   },
   "outputs": [
    {
     "name": "stdout",
     "output_type": "stream",
     "text": [
      "Iteration:  0\n",
      "[[ 0.17765109]\n",
      " [ 0.14414115]\n",
      " [-0.23072128]]\n",
      "Final outputs are:\n",
      "[[1]\n",
      " [1]\n",
      " [1]\n",
      " [1]]\n",
      "Iteration:  1\n",
      "[[ 0.17765109]\n",
      " [ 0.14414115]\n",
      " [-0.13072128]]\n",
      "Final outputs are:\n",
      "[[1]\n",
      " [1]\n",
      " [1]\n",
      " [1]]\n",
      "Iteration:  2\n",
      "[[ 0.17765109]\n",
      " [ 0.14414115]\n",
      " [-0.03072128]]\n",
      "Final outputs are:\n",
      "[[0]\n",
      " [1]\n",
      " [1]\n",
      " [1]]\n",
      "Iteration:  3\n",
      "[[ 0.17765109]\n",
      " [ 0.14414115]\n",
      " [-0.03072128]]\n",
      "Final outputs are:\n",
      "[[0]\n",
      " [1]\n",
      " [1]\n",
      " [1]]\n",
      "Iteration:  4\n",
      "[[ 0.17765109]\n",
      " [ 0.14414115]\n",
      " [-0.03072128]]\n",
      "Final outputs are:\n",
      "[[0]\n",
      " [1]\n",
      " [1]\n",
      " [1]]\n",
      "Iteration:  5\n",
      "[[ 0.17765109]\n",
      " [ 0.14414115]\n",
      " [-0.03072128]]\n",
      "Final outputs are:\n",
      "[[0]\n",
      " [1]\n",
      " [1]\n",
      " [1]]\n"
     ]
    }
   ],
   "source": [
    "p = pcn(inputs, targets)\n",
    "p.pcntrain(inputs, targets, 0.1, 6)"
   ]
  },
  {
   "cell_type": "code",
   "execution_count": null,
   "metadata": {},
   "outputs": [],
   "source": []
  }
 ],
 "metadata": {
  "colab": {
   "collapsed_sections": [],
   "name": "pcn_example.ipynb",
   "provenance": [],
   "version": "0.3.2"
  },
  "kernelspec": {
   "display_name": "Python 3",
   "language": "python",
   "name": "python3"
  },
  "language_info": {
   "codemirror_mode": {
    "name": "ipython",
    "version": 3
   },
   "file_extension": ".py",
   "mimetype": "text/x-python",
   "name": "python",
   "nbconvert_exporter": "python",
   "pygments_lexer": "ipython3",
   "version": "3.7.0"
  }
 },
 "nbformat": 4,
 "nbformat_minor": 1
}
